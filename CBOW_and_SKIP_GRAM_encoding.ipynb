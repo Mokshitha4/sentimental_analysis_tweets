{
  "cells": [
    {
      "cell_type": "markdown",
      "source": [
        "# CBOW and Skip gram encoding"
      ],
      "metadata": {
        "id": "NBzCvSVhQrpJ"
      }
    },
    {
      "cell_type": "markdown",
      "source": [
        "Applying CBOW encoding to the dataset and perform different Machine Learning Models on the dataset."
      ],
      "metadata": {
        "id": "T-VGX8yQQxG8"
      }
    },
    {
      "cell_type": "markdown",
      "source": [
        "\n",
        "*  The CBOW architecture includes a deep learning classification model that uses context words as input (X) to predict our target word, Y. Considering the following scenario: Have a wonderful day.\n",
        "\n",
        "\n",
        "*   Let the word \"excellent\" be the input to the Neural Network. It's important to note that we're attempting to predict a target word (day) from a single context input word, unique. More specifically, we compare the output error of the one-hot encoding of the input word to the one-hot encoding of the target word (day)\n",
        ".\n",
        "\n",
        "*   The context words are predicted in the skip-gram model given a target (center) word. Consider the following sentence: \"Word2Vec uses a deep learning model in the backend.\" Given the center word 'learning' and a context window size of 2, the model tries to predict ['deep,' 'model'], and so on."
      ],
      "metadata": {
        "id": "vpTgLcX_RPem"
      }
    },
    {
      "cell_type": "code",
      "execution_count": null,
      "metadata": {
        "id": "pY-5EHFW7gD5"
      },
      "outputs": [],
      "source": [
        "# For Data Preprocessing\n",
        "import pandas as pd\n",
        "\n",
        "# Gensim Libraries\n",
        "import gensim\n",
        "from gensim.models import Word2Vec,KeyedVectors\n",
        "\n",
        "# For visualization of word2vec model\n",
        "from sklearn.manifold import TSNE\n",
        "import matplotlib.pyplot as plt\n",
        "%matplotlib inline"
      ]
    },
    {
      "cell_type": "code",
      "execution_count": null,
      "metadata": {
        "colab": {
          "base_uri": "https://localhost:8080/",
          "height": 206
        },
        "id": "Uz6EjnAv7gD6",
        "outputId": "875dd17a-52c5-43df-ac16-48701667db24"
      },
      "outputs": [
        {
          "output_type": "execute_result",
          "data": {
            "text/plain": [
              "   Unnamed: 0 File Name                                            Caption  \\\n",
              "0           0     1.txt                   feel today legday jelly ache gym   \n",
              "1           1    10.txt  absolute disgrace carriage Bangor half way sta...   \n",
              "2           2   100.txt  Valentine 1 nephew elated little thing big goo...   \n",
              "3           3  1000.txt  betterfeelingfilm RT Instagram day film powerl...   \n",
              "4           4  1001.txt                                    Zoe love rattle   \n",
              "\n",
              "      LABEL  \n",
              "0  negative  \n",
              "1  negative  \n",
              "2  positive  \n",
              "3   neutral  \n",
              "4  positive  "
            ],
            "text/html": [
              "\n",
              "  <div id=\"df-0b030c37-f68e-4836-8729-2826abdac5da\">\n",
              "    <div class=\"colab-df-container\">\n",
              "      <div>\n",
              "<style scoped>\n",
              "    .dataframe tbody tr th:only-of-type {\n",
              "        vertical-align: middle;\n",
              "    }\n",
              "\n",
              "    .dataframe tbody tr th {\n",
              "        vertical-align: top;\n",
              "    }\n",
              "\n",
              "    .dataframe thead th {\n",
              "        text-align: right;\n",
              "    }\n",
              "</style>\n",
              "<table border=\"1\" class=\"dataframe\">\n",
              "  <thead>\n",
              "    <tr style=\"text-align: right;\">\n",
              "      <th></th>\n",
              "      <th>Unnamed: 0</th>\n",
              "      <th>File Name</th>\n",
              "      <th>Caption</th>\n",
              "      <th>LABEL</th>\n",
              "    </tr>\n",
              "  </thead>\n",
              "  <tbody>\n",
              "    <tr>\n",
              "      <th>0</th>\n",
              "      <td>0</td>\n",
              "      <td>1.txt</td>\n",
              "      <td>feel today legday jelly ache gym</td>\n",
              "      <td>negative</td>\n",
              "    </tr>\n",
              "    <tr>\n",
              "      <th>1</th>\n",
              "      <td>1</td>\n",
              "      <td>10.txt</td>\n",
              "      <td>absolute disgrace carriage Bangor half way sta...</td>\n",
              "      <td>negative</td>\n",
              "    </tr>\n",
              "    <tr>\n",
              "      <th>2</th>\n",
              "      <td>2</td>\n",
              "      <td>100.txt</td>\n",
              "      <td>Valentine 1 nephew elated little thing big goo...</td>\n",
              "      <td>positive</td>\n",
              "    </tr>\n",
              "    <tr>\n",
              "      <th>3</th>\n",
              "      <td>3</td>\n",
              "      <td>1000.txt</td>\n",
              "      <td>betterfeelingfilm RT Instagram day film powerl...</td>\n",
              "      <td>neutral</td>\n",
              "    </tr>\n",
              "    <tr>\n",
              "      <th>4</th>\n",
              "      <td>4</td>\n",
              "      <td>1001.txt</td>\n",
              "      <td>Zoe love rattle</td>\n",
              "      <td>positive</td>\n",
              "    </tr>\n",
              "  </tbody>\n",
              "</table>\n",
              "</div>\n",
              "      <button class=\"colab-df-convert\" onclick=\"convertToInteractive('df-0b030c37-f68e-4836-8729-2826abdac5da')\"\n",
              "              title=\"Convert this dataframe to an interactive table.\"\n",
              "              style=\"display:none;\">\n",
              "        \n",
              "  <svg xmlns=\"http://www.w3.org/2000/svg\" height=\"24px\"viewBox=\"0 0 24 24\"\n",
              "       width=\"24px\">\n",
              "    <path d=\"M0 0h24v24H0V0z\" fill=\"none\"/>\n",
              "    <path d=\"M18.56 5.44l.94 2.06.94-2.06 2.06-.94-2.06-.94-.94-2.06-.94 2.06-2.06.94zm-11 1L8.5 8.5l.94-2.06 2.06-.94-2.06-.94L8.5 2.5l-.94 2.06-2.06.94zm10 10l.94 2.06.94-2.06 2.06-.94-2.06-.94-.94-2.06-.94 2.06-2.06.94z\"/><path d=\"M17.41 7.96l-1.37-1.37c-.4-.4-.92-.59-1.43-.59-.52 0-1.04.2-1.43.59L10.3 9.45l-7.72 7.72c-.78.78-.78 2.05 0 2.83L4 21.41c.39.39.9.59 1.41.59.51 0 1.02-.2 1.41-.59l7.78-7.78 2.81-2.81c.8-.78.8-2.07 0-2.86zM5.41 20L4 18.59l7.72-7.72 1.47 1.35L5.41 20z\"/>\n",
              "  </svg>\n",
              "      </button>\n",
              "      \n",
              "  <style>\n",
              "    .colab-df-container {\n",
              "      display:flex;\n",
              "      flex-wrap:wrap;\n",
              "      gap: 12px;\n",
              "    }\n",
              "\n",
              "    .colab-df-convert {\n",
              "      background-color: #E8F0FE;\n",
              "      border: none;\n",
              "      border-radius: 50%;\n",
              "      cursor: pointer;\n",
              "      display: none;\n",
              "      fill: #1967D2;\n",
              "      height: 32px;\n",
              "      padding: 0 0 0 0;\n",
              "      width: 32px;\n",
              "    }\n",
              "\n",
              "    .colab-df-convert:hover {\n",
              "      background-color: #E2EBFA;\n",
              "      box-shadow: 0px 1px 2px rgba(60, 64, 67, 0.3), 0px 1px 3px 1px rgba(60, 64, 67, 0.15);\n",
              "      fill: #174EA6;\n",
              "    }\n",
              "\n",
              "    [theme=dark] .colab-df-convert {\n",
              "      background-color: #3B4455;\n",
              "      fill: #D2E3FC;\n",
              "    }\n",
              "\n",
              "    [theme=dark] .colab-df-convert:hover {\n",
              "      background-color: #434B5C;\n",
              "      box-shadow: 0px 1px 3px 1px rgba(0, 0, 0, 0.15);\n",
              "      filter: drop-shadow(0px 1px 2px rgba(0, 0, 0, 0.3));\n",
              "      fill: #FFFFFF;\n",
              "    }\n",
              "  </style>\n",
              "\n",
              "      <script>\n",
              "        const buttonEl =\n",
              "          document.querySelector('#df-0b030c37-f68e-4836-8729-2826abdac5da button.colab-df-convert');\n",
              "        buttonEl.style.display =\n",
              "          google.colab.kernel.accessAllowed ? 'block' : 'none';\n",
              "\n",
              "        async function convertToInteractive(key) {\n",
              "          const element = document.querySelector('#df-0b030c37-f68e-4836-8729-2826abdac5da');\n",
              "          const dataTable =\n",
              "            await google.colab.kernel.invokeFunction('convertToInteractive',\n",
              "                                                     [key], {});\n",
              "          if (!dataTable) return;\n",
              "\n",
              "          const docLinkHtml = 'Like what you see? Visit the ' +\n",
              "            '<a target=\"_blank\" href=https://colab.research.google.com/notebooks/data_table.ipynb>data table notebook</a>'\n",
              "            + ' to learn more about interactive tables.';\n",
              "          element.innerHTML = '';\n",
              "          dataTable['output_type'] = 'display_data';\n",
              "          await google.colab.output.renderOutput(dataTable, element);\n",
              "          const docLink = document.createElement('div');\n",
              "          docLink.innerHTML = docLinkHtml;\n",
              "          element.appendChild(docLink);\n",
              "        }\n",
              "      </script>\n",
              "    </div>\n",
              "  </div>\n",
              "  "
            ]
          },
          "metadata": {},
          "execution_count": 5
        }
      ],
      "source": [
        "df = pd.read_csv(\"/content/drive/MyDrive/nlp/spacy_preprocessed_labeledtext.csv\")\n",
        "df.head()"
      ]
    },
    {
      "cell_type": "code",
      "source": [
        "from google.colab import drive\n",
        "drive.mount('/content/drive')"
      ],
      "metadata": {
        "colab": {
          "base_uri": "https://localhost:8080/"
        },
        "id": "EuU9MYKM8HkE",
        "outputId": "9ed87596-f938-4325-abfe-caf553b21035"
      },
      "execution_count": null,
      "outputs": [
        {
          "output_type": "stream",
          "name": "stdout",
          "text": [
            "Mounted at /content/drive\n"
          ]
        }
      ]
    },
    {
      "cell_type": "code",
      "source": [
        "df['label_num'] = df['LABEL'].map({'neutral' : 0, 'positive': 1,'negative':2})"
      ],
      "metadata": {
        "id": "u8_BIpxM4fzz"
      },
      "execution_count": null,
      "outputs": []
    },
    {
      "cell_type": "code",
      "source": [
        "df['Caption']= df['Caption'].astype(str)"
      ],
      "metadata": {
        "id": "DqUypGDi4mRJ"
      },
      "execution_count": null,
      "outputs": []
    },
    {
      "cell_type": "markdown",
      "metadata": {
        "id": "KRA1vZFh7gD8"
      },
      "source": [
        "# Train CBOW Word2Vec Model\n",
        "\n"
      ]
    },
    {
      "cell_type": "code",
      "source": [
        "sentences = []\n",
        "for review in df.Caption.values:\n",
        "    sentences.append(review.split())"
      ],
      "metadata": {
        "id": "IK1K9EgK3sKD"
      },
      "execution_count": null,
      "outputs": []
    },
    {
      "cell_type": "code",
      "source": [
        "num_features=100\n",
        "model_cbow = Word2Vec(sentences, sg=0, min_count=10, workers=4, window =3, epochs = 20, vector_size=num_features)"
      ],
      "metadata": {
        "id": "I8UyMaI-3z6f"
      },
      "execution_count": null,
      "outputs": []
    },
    {
      "cell_type": "code",
      "source": [
        "import numpy as np\n",
        "def make_feature_vec(words, model,num_features):\n",
        "    # Function to average all of the word vectors in a given paragraph\n",
        "    feature_vec = np.zeros((num_features,), dtype=\"float32\")\n",
        "    nwords = 0\n",
        "    for word in words:\n",
        "        if word in model.wv.key_to_index:\n",
        "            feature_vec = np.add(feature_vec, model.wv.get_vector(word))\n",
        "            nwords += 1\n",
        "    if nwords > 0:\n",
        "        feature_vec = np.divide(feature_vec, nwords)\n",
        "    return feature_vec\n",
        "\n",
        "def get_avg_feature_vecs(reviews, model, num_features):\n",
        "    # Function to generate vectors for all movie reviews in a dataset\n",
        "    counter = 0\n",
        "    review_feature_vecs = np.zeros((len(reviews), num_features), dtype=\"float32\")\n",
        "    for review in reviews:\n",
        "        review_feature_vecs[counter] = make_feature_vec(review, model, num_features)\n",
        "        counter += 1\n",
        "    return review_feature_vecs\n",
        "\n",
        "# Convert the training and test data into fixed-length feature vectors\n",
        "data_vecs = get_avg_feature_vecs(sentences, model_cbow, num_features)"
      ],
      "metadata": {
        "id": "sPv0rcHk3huF"
      },
      "execution_count": null,
      "outputs": []
    },
    {
      "cell_type": "code",
      "execution_count": null,
      "metadata": {
        "colab": {
          "base_uri": "https://localhost:8080/"
        },
        "id": "eDHBec6b7gD-",
        "outputId": "959f4746-eebc-42b3-a893-ed034da46583"
      },
      "outputs": [
        {
          "output_type": "execute_result",
          "data": {
            "text/plain": [
              "[('big', 0.9955771565437317),\n",
              " ('girl', 0.9953746795654297),\n",
              " ('energetic', 0.9949219822883606),\n",
              " ('week', 0.9948364496231079),\n",
              " ('guy', 0.9947118759155273),\n",
              " ('man', 0.994564950466156),\n",
              " ('today', 0.9945285320281982),\n",
              " ('friend', 0.994317352771759),\n",
              " ('get', 0.9942103624343872),\n",
              " ('tell', 0.9937557578086853)]"
            ]
          },
          "metadata": {},
          "execution_count": 15
        }
      ],
      "source": [
        "model_cbow.wv.most_similar(\"good\")"
      ]
    },
    {
      "cell_type": "code",
      "execution_count": null,
      "metadata": {
        "id": "k_GdoNLj7gD-"
      },
      "outputs": [],
      "source": [
        "def tsne_plot(model):\n",
        "    \"Creates and TSNE model and plots it\"\n",
        "    labels = []\n",
        "    tokens = []\n",
        "\n",
        "    for word in model.wv.key_to_index:\n",
        "\n",
        "        tokens.append(model.wv[word])\n",
        "        labels.append(word)\n",
        "\n",
        "    tsne_model = TSNE(perplexity=40, n_components=2, init='pca', n_iter=2500, random_state=23)\n",
        "    new_values = tsne_model.fit_transform(tokens)\n",
        "\n",
        "    x = []\n",
        "    y = []\n",
        "    for value in new_values:\n",
        "        x.append(value[0])\n",
        "        y.append(value[1])\n",
        "\n",
        "    plt.figure(figsize=(16, 16))\n",
        "    for i in range(len(x)):\n",
        "        plt.scatter(x[i],y[i])\n",
        "        plt.annotate(labels[i],\n",
        "                     xy=(x[i], y[i]),\n",
        "                     xytext=(5, 2),\n",
        "                     textcoords='offset points',\n",
        "                     ha='right',\n",
        "                     va='bottom')\n",
        "    plt.show()"
      ]
    },
    {
      "cell_type": "code",
      "source": [
        "from sklearn.model_selection import train_test_split\n",
        "\n",
        "X_train, X_test, y_train, y_test = train_test_split(data_vecs, df.label_num, test_size=0.2)"
      ],
      "metadata": {
        "id": "U6Xy-LFK5GXQ"
      },
      "execution_count": null,
      "outputs": []
    },
    {
      "cell_type": "markdown",
      "source": [
        "Training ml models"
      ],
      "metadata": {
        "id": "CzDk1T0g5Mcg"
      }
    },
    {
      "cell_type": "code",
      "source": [
        "X_train_2d = np.stack(X_train)\n",
        "X_test_2d = np.stack(X_test)\n",
        "\n",
        "from sklearn.naive_bayes import GaussianNB\n",
        "from sklearn.preprocessing import MinMaxScaler\n",
        "\n",
        "\n",
        "scaler = MinMaxScaler()\n",
        "scaled_train_embed = scaler.fit_transform(X_train_2d)\n",
        "scaled_test_embed = scaler.transform(X_test_2d)\n",
        "\n",
        "\n",
        "clf = GaussianNB()\n",
        "clf.fit(scaled_train_embed, y_train)\n",
        "from sklearn.metrics import classification_report\n",
        "\n",
        "y_pred = clf.predict(scaled_test_embed)\n",
        "\n",
        "print(classification_report(y_test, y_pred))"
      ],
      "metadata": {
        "colab": {
          "base_uri": "https://localhost:8080/"
        },
        "id": "heX9AxdB5Of9",
        "outputId": "e84de0b2-2f5a-4bae-b97b-e2878950479c"
      },
      "execution_count": null,
      "outputs": [
        {
          "output_type": "stream",
          "name": "stdout",
          "text": [
            "              precision    recall  f1-score   support\n",
            "\n",
            "           0       0.63      0.18      0.28       343\n",
            "           1       0.42      0.09      0.15       350\n",
            "           2       0.32      0.90      0.47       281\n",
            "\n",
            "    accuracy                           0.36       974\n",
            "   macro avg       0.46      0.39      0.30       974\n",
            "weighted avg       0.46      0.36      0.29       974\n",
            "\n"
          ]
        }
      ]
    },
    {
      "cell_type": "code",
      "source": [
        "from sklearn.ensemble import RandomForestClassifier\n",
        "clf = RandomForestClassifier()\n",
        "clf.fit(scaled_train_embed, y_train)\n",
        "from sklearn.metrics import classification_report\n",
        "\n",
        "y_pred = clf.predict(scaled_test_embed)\n",
        "\n",
        "print(classification_report(y_test, y_pred))"
      ],
      "metadata": {
        "colab": {
          "base_uri": "https://localhost:8080/"
        },
        "id": "PQC6z9fg5R07",
        "outputId": "88c7f0b1-f95d-435c-b0f6-f5609793766d"
      },
      "execution_count": null,
      "outputs": [
        {
          "output_type": "stream",
          "name": "stdout",
          "text": [
            "              precision    recall  f1-score   support\n",
            "\n",
            "           0       0.55      0.63      0.59       343\n",
            "           1       0.63      0.62      0.63       350\n",
            "           2       0.56      0.48      0.52       281\n",
            "\n",
            "    accuracy                           0.58       974\n",
            "   macro avg       0.58      0.58      0.58       974\n",
            "weighted avg       0.58      0.58      0.58       974\n",
            "\n"
          ]
        }
      ]
    },
    {
      "cell_type": "code",
      "source": [
        "from sklearn.svm import SVC\n",
        "classifier = SVC(kernel='poly', random_state=0)\n",
        "classifier.fit(scaled_train_embed, y_train)\n",
        "y_pred = classifier.predict(scaled_test_embed)\n",
        "print(classification_report(y_test, y_pred))"
      ],
      "metadata": {
        "colab": {
          "base_uri": "https://localhost:8080/"
        },
        "id": "w8minVYr5U3s",
        "outputId": "0edc4e46-1faa-4204-99e8-b22488c41c3a"
      },
      "execution_count": null,
      "outputs": [
        {
          "output_type": "stream",
          "name": "stdout",
          "text": [
            "              precision    recall  f1-score   support\n",
            "\n",
            "           0       0.51      0.61      0.56       343\n",
            "           1       0.66      0.53      0.59       350\n",
            "           2       0.49      0.51      0.50       281\n",
            "\n",
            "    accuracy                           0.55       974\n",
            "   macro avg       0.56      0.55      0.55       974\n",
            "weighted avg       0.56      0.55      0.55       974\n",
            "\n"
          ]
        }
      ]
    },
    {
      "cell_type": "code",
      "source": [
        "classifier = SVC(kernel='linear', random_state=0)\n",
        "classifier.fit(scaled_train_embed, y_train)\n",
        "y_pred = classifier.predict(scaled_test_embed)\n",
        "print(classification_report(y_test, y_pred))"
      ],
      "metadata": {
        "colab": {
          "base_uri": "https://localhost:8080/"
        },
        "id": "eCkpICci5ajT",
        "outputId": "b8ec5369-4ac1-457c-d1ea-4c7a96e1fe73"
      },
      "execution_count": null,
      "outputs": [
        {
          "output_type": "stream",
          "name": "stdout",
          "text": [
            "              precision    recall  f1-score   support\n",
            "\n",
            "           0       0.43      0.83      0.56       343\n",
            "           1       0.67      0.46      0.54       350\n",
            "           2       0.55      0.12      0.20       281\n",
            "\n",
            "    accuracy                           0.49       974\n",
            "   macro avg       0.55      0.47      0.44       974\n",
            "weighted avg       0.55      0.49      0.45       974\n",
            "\n"
          ]
        }
      ]
    },
    {
      "cell_type": "code",
      "source": [
        "classifier = SVC(kernel='rbf', random_state=0)\n",
        "classifier.fit(scaled_train_embed, y_train)\n",
        "y_pred = classifier.predict(scaled_test_embed)\n",
        "print(classification_report(y_test, y_pred))"
      ],
      "metadata": {
        "colab": {
          "base_uri": "https://localhost:8080/"
        },
        "id": "XjxVqAx15bf9",
        "outputId": "db15f01e-ab05-40f7-d523-f3bc96d43c80"
      },
      "execution_count": null,
      "outputs": [
        {
          "output_type": "stream",
          "name": "stdout",
          "text": [
            "              precision    recall  f1-score   support\n",
            "\n",
            "           0       0.43      0.84      0.57       343\n",
            "           1       0.64      0.48      0.55       350\n",
            "           2       0.61      0.07      0.13       281\n",
            "\n",
            "    accuracy                           0.49       974\n",
            "   macro avg       0.56      0.47      0.41       974\n",
            "weighted avg       0.55      0.49      0.43       974\n",
            "\n"
          ]
        }
      ]
    },
    {
      "cell_type": "code",
      "source": [
        "from sklearn.neighbors import KNeighborsClassifier\n",
        "knn = KNeighborsClassifier(n_neighbors=7)\n",
        "knn.fit(scaled_train_embed, y_train)"
      ],
      "metadata": {
        "colab": {
          "base_uri": "https://localhost:8080/",
          "height": 74
        },
        "id": "YQ-48qlD5goG",
        "outputId": "546fb854-7a99-497c-825b-9ef3c806ed26"
      },
      "execution_count": null,
      "outputs": [
        {
          "output_type": "execute_result",
          "data": {
            "text/plain": [
              "KNeighborsClassifier(n_neighbors=7)"
            ],
            "text/html": [
              "<style>#sk-container-id-1 {color: black;background-color: white;}#sk-container-id-1 pre{padding: 0;}#sk-container-id-1 div.sk-toggleable {background-color: white;}#sk-container-id-1 label.sk-toggleable__label {cursor: pointer;display: block;width: 100%;margin-bottom: 0;padding: 0.3em;box-sizing: border-box;text-align: center;}#sk-container-id-1 label.sk-toggleable__label-arrow:before {content: \"▸\";float: left;margin-right: 0.25em;color: #696969;}#sk-container-id-1 label.sk-toggleable__label-arrow:hover:before {color: black;}#sk-container-id-1 div.sk-estimator:hover label.sk-toggleable__label-arrow:before {color: black;}#sk-container-id-1 div.sk-toggleable__content {max-height: 0;max-width: 0;overflow: hidden;text-align: left;background-color: #f0f8ff;}#sk-container-id-1 div.sk-toggleable__content pre {margin: 0.2em;color: black;border-radius: 0.25em;background-color: #f0f8ff;}#sk-container-id-1 input.sk-toggleable__control:checked~div.sk-toggleable__content {max-height: 200px;max-width: 100%;overflow: auto;}#sk-container-id-1 input.sk-toggleable__control:checked~label.sk-toggleable__label-arrow:before {content: \"▾\";}#sk-container-id-1 div.sk-estimator input.sk-toggleable__control:checked~label.sk-toggleable__label {background-color: #d4ebff;}#sk-container-id-1 div.sk-label input.sk-toggleable__control:checked~label.sk-toggleable__label {background-color: #d4ebff;}#sk-container-id-1 input.sk-hidden--visually {border: 0;clip: rect(1px 1px 1px 1px);clip: rect(1px, 1px, 1px, 1px);height: 1px;margin: -1px;overflow: hidden;padding: 0;position: absolute;width: 1px;}#sk-container-id-1 div.sk-estimator {font-family: monospace;background-color: #f0f8ff;border: 1px dotted black;border-radius: 0.25em;box-sizing: border-box;margin-bottom: 0.5em;}#sk-container-id-1 div.sk-estimator:hover {background-color: #d4ebff;}#sk-container-id-1 div.sk-parallel-item::after {content: \"\";width: 100%;border-bottom: 1px solid gray;flex-grow: 1;}#sk-container-id-1 div.sk-label:hover label.sk-toggleable__label {background-color: #d4ebff;}#sk-container-id-1 div.sk-serial::before {content: \"\";position: absolute;border-left: 1px solid gray;box-sizing: border-box;top: 0;bottom: 0;left: 50%;z-index: 0;}#sk-container-id-1 div.sk-serial {display: flex;flex-direction: column;align-items: center;background-color: white;padding-right: 0.2em;padding-left: 0.2em;position: relative;}#sk-container-id-1 div.sk-item {position: relative;z-index: 1;}#sk-container-id-1 div.sk-parallel {display: flex;align-items: stretch;justify-content: center;background-color: white;position: relative;}#sk-container-id-1 div.sk-item::before, #sk-container-id-1 div.sk-parallel-item::before {content: \"\";position: absolute;border-left: 1px solid gray;box-sizing: border-box;top: 0;bottom: 0;left: 50%;z-index: -1;}#sk-container-id-1 div.sk-parallel-item {display: flex;flex-direction: column;z-index: 1;position: relative;background-color: white;}#sk-container-id-1 div.sk-parallel-item:first-child::after {align-self: flex-end;width: 50%;}#sk-container-id-1 div.sk-parallel-item:last-child::after {align-self: flex-start;width: 50%;}#sk-container-id-1 div.sk-parallel-item:only-child::after {width: 0;}#sk-container-id-1 div.sk-dashed-wrapped {border: 1px dashed gray;margin: 0 0.4em 0.5em 0.4em;box-sizing: border-box;padding-bottom: 0.4em;background-color: white;}#sk-container-id-1 div.sk-label label {font-family: monospace;font-weight: bold;display: inline-block;line-height: 1.2em;}#sk-container-id-1 div.sk-label-container {text-align: center;}#sk-container-id-1 div.sk-container {/* jupyter's `normalize.less` sets `[hidden] { display: none; }` but bootstrap.min.css set `[hidden] { display: none !important; }` so we also need the `!important` here to be able to override the default hidden behavior on the sphinx rendered scikit-learn.org. See: https://github.com/scikit-learn/scikit-learn/issues/21755 */display: inline-block !important;position: relative;}#sk-container-id-1 div.sk-text-repr-fallback {display: none;}</style><div id=\"sk-container-id-1\" class=\"sk-top-container\"><div class=\"sk-text-repr-fallback\"><pre>KNeighborsClassifier(n_neighbors=7)</pre><b>In a Jupyter environment, please rerun this cell to show the HTML representation or trust the notebook. <br />On GitHub, the HTML representation is unable to render, please try loading this page with nbviewer.org.</b></div><div class=\"sk-container\" hidden><div class=\"sk-item\"><div class=\"sk-estimator sk-toggleable\"><input class=\"sk-toggleable__control sk-hidden--visually\" id=\"sk-estimator-id-1\" type=\"checkbox\" checked><label for=\"sk-estimator-id-1\" class=\"sk-toggleable__label sk-toggleable__label-arrow\">KNeighborsClassifier</label><div class=\"sk-toggleable__content\"><pre>KNeighborsClassifier(n_neighbors=7)</pre></div></div></div></div></div>"
            ]
          },
          "metadata": {},
          "execution_count": 24
        }
      ]
    },
    {
      "cell_type": "code",
      "source": [
        "y_pred = knn.predict(scaled_test_embed)\n",
        "print(classification_report(y_test, y_pred))"
      ],
      "metadata": {
        "colab": {
          "base_uri": "https://localhost:8080/"
        },
        "id": "1rfz-bYJ5jib",
        "outputId": "eda6814b-499d-47bb-a1a1-7a8651618520"
      },
      "execution_count": null,
      "outputs": [
        {
          "output_type": "stream",
          "name": "stdout",
          "text": [
            "              precision    recall  f1-score   support\n",
            "\n",
            "           0       0.50      0.52      0.51       343\n",
            "           1       0.57      0.55      0.56       350\n",
            "           2       0.41      0.41      0.41       281\n",
            "\n",
            "    accuracy                           0.50       974\n",
            "   macro avg       0.49      0.49      0.49       974\n",
            "weighted avg       0.50      0.50      0.50       974\n",
            "\n"
          ]
        }
      ]
    },
    {
      "cell_type": "markdown",
      "source": [
        "**Observations**:\n",
        "\n",
        "*   Random forest classifier gave 0.58 accuracy.\n",
        "*   Support vector classifier with linear kernel gave accuracy of 0.55 .\n",
        "*   Accuracy with Naive bayes is 0.36 , with SVM poly kernel is 0.49, with SVM rbf kernel is 0.49, with knn is 0.50"
      ],
      "metadata": {
        "id": "gjvQgB5XS52D"
      }
    },
    {
      "cell_type": "markdown",
      "metadata": {
        "id": "2_mjT-Bg7gD_"
      },
      "source": [
        "# Train Skip-Gram Word2Vec Model"
      ]
    },
    {
      "cell_type": "code",
      "execution_count": null,
      "metadata": {
        "id": "74_RPV3J7gD_"
      },
      "outputs": [],
      "source": [
        "num_features=100\n",
        "model_skipgram = Word2Vec(sentences, sg=1, min_count=10, workers=4, window =3, epochs = 20, vector_size=num_features)"
      ]
    },
    {
      "cell_type": "code",
      "execution_count": null,
      "metadata": {
        "id": "8KYfojbk7gD_",
        "colab": {
          "base_uri": "https://localhost:8080/"
        },
        "outputId": "40caad90-fd98-4fdc-f749-51d7ce2daf02"
      },
      "outputs": [
        {
          "output_type": "execute_result",
          "data": {
            "text/plain": [
              "[('friend', 0.9679284691810608),\n",
              " ('girl', 0.9649432301521301),\n",
              " ('big', 0.964033305644989),\n",
              " ('energetic', 0.9636240005493164),\n",
              " ('man', 0.9571497440338135),\n",
              " ('baby', 0.9571191668510437),\n",
              " ('awesome', 0.9563152194023132),\n",
              " ('look', 0.9561206698417664),\n",
              " ('make', 0.955333411693573),\n",
              " ('work', 0.9525425434112549)]"
            ]
          },
          "metadata": {},
          "execution_count": 27
        }
      ],
      "source": [
        "model_skipgram.wv.most_similar(\"good\")"
      ]
    },
    {
      "cell_type": "code",
      "source": [
        "import numpy as np"
      ],
      "metadata": {
        "id": "KqOaAd0T9-sd"
      },
      "execution_count": null,
      "outputs": []
    },
    {
      "cell_type": "code",
      "source": [
        "import numpy as np\n",
        "def make_feature_vec(words, model,num_features):\n",
        "    # Function to average all of the word vectors in a given paragraph\n",
        "    feature_vec = np.zeros((num_features,), dtype=\"float32\")\n",
        "    nwords = 0\n",
        "    for word in words:\n",
        "        if word in model.wv.key_to_index:\n",
        "            feature_vec = np.add(feature_vec, model.wv.get_vector(word))\n",
        "            nwords += 1\n",
        "    if nwords > 0:\n",
        "        feature_vec = np.divide(feature_vec, nwords)\n",
        "    return feature_vec\n",
        "\n",
        "def get_avg_feature_vecs(reviews, model, num_features):\n",
        "    # Function to generate vectors for all movie reviews in a dataset\n",
        "    counter = 0\n",
        "    review_feature_vecs = np.zeros((len(reviews), num_features), dtype=\"float32\")\n",
        "    for review in reviews:\n",
        "        review_feature_vecs[counter] = make_feature_vec(review, model, num_features)\n",
        "        counter += 1\n",
        "    return review_feature_vecs\n",
        "\n",
        "# Convert the training and test data into fixed-length feature vectors\n",
        "data_vecs_sg = get_avg_feature_vecs(sentences, model_cbow, num_features)"
      ],
      "metadata": {
        "id": "GsDW0F-hgGRr"
      },
      "execution_count": null,
      "outputs": []
    },
    {
      "cell_type": "code",
      "source": [
        "from sklearn.model_selection import train_test_split\n",
        "\n",
        "X_train, X_test, y_train, y_test = train_test_split(data_vecs_sg, df.label_num, test_size=0.2)"
      ],
      "metadata": {
        "id": "8ESBdx5N5234"
      },
      "execution_count": null,
      "outputs": []
    },
    {
      "cell_type": "code",
      "source": [
        "X_train_2d = np.stack(X_train)\n",
        "X_test_2d = np.stack(X_test)\n",
        "\n",
        "from sklearn.naive_bayes import GaussianNB\n",
        "from sklearn.preprocessing import MinMaxScaler\n",
        "\n",
        "\n",
        "scaler = MinMaxScaler()\n",
        "scaled_train_embed = scaler.fit_transform(X_train_2d)\n",
        "scaled_test_embed = scaler.transform(X_test_2d)\n",
        "\n",
        "\n",
        "clf = GaussianNB()\n",
        "clf.fit(scaled_train_embed, y_train)\n",
        "from sklearn.metrics import classification_report\n",
        "\n",
        "y_pred = clf.predict(scaled_test_embed)\n",
        "\n",
        "print(classification_report(y_test, y_pred))"
      ],
      "metadata": {
        "colab": {
          "base_uri": "https://localhost:8080/"
        },
        "id": "5wA6_nwc5_A9",
        "outputId": "572fe4f8-b728-4f66-b4bd-cd26d8b7e8f4"
      },
      "execution_count": null,
      "outputs": [
        {
          "output_type": "stream",
          "name": "stdout",
          "text": [
            "              precision    recall  f1-score   support\n",
            "\n",
            "           0       0.69      0.14      0.24       367\n",
            "           1       0.35      0.09      0.14       308\n",
            "           2       0.34      0.94      0.50       299\n",
            "\n",
            "    accuracy                           0.37       974\n",
            "   macro avg       0.46      0.39      0.29       974\n",
            "weighted avg       0.48      0.37      0.29       974\n",
            "\n"
          ]
        }
      ]
    },
    {
      "cell_type": "code",
      "source": [
        "from sklearn.ensemble import RandomForestClassifier\n",
        "clf = RandomForestClassifier()\n",
        "clf.fit(scaled_train_embed, y_train)\n",
        "from sklearn.metrics import classification_report\n",
        "\n",
        "y_pred = clf.predict(scaled_test_embed)\n",
        "\n",
        "print(classification_report(y_test, y_pred))"
      ],
      "metadata": {
        "colab": {
          "base_uri": "https://localhost:8080/"
        },
        "id": "rTH0GQ366DWi",
        "outputId": "beda8b7a-04e1-4d9c-a896-d01238bd211c"
      },
      "execution_count": null,
      "outputs": [
        {
          "output_type": "stream",
          "name": "stdout",
          "text": [
            "              precision    recall  f1-score   support\n",
            "\n",
            "           0       0.58      0.60      0.59       367\n",
            "           1       0.54      0.64      0.59       308\n",
            "           2       0.57      0.43      0.49       299\n",
            "\n",
            "    accuracy                           0.56       974\n",
            "   macro avg       0.56      0.56      0.56       974\n",
            "weighted avg       0.56      0.56      0.56       974\n",
            "\n"
          ]
        }
      ]
    },
    {
      "cell_type": "code",
      "source": [
        "from sklearn.svm import SVC\n",
        "classifier = SVC(kernel='poly', random_state=0)\n",
        "classifier.fit(scaled_train_embed, y_train)\n",
        "y_pred = classifier.predict(scaled_test_embed)\n",
        "print(classification_report(y_test, y_pred))"
      ],
      "metadata": {
        "colab": {
          "base_uri": "https://localhost:8080/"
        },
        "id": "rvvwgAme6HyE",
        "outputId": "d2314334-460c-470b-96f8-bea0e293bb02"
      },
      "execution_count": null,
      "outputs": [
        {
          "output_type": "stream",
          "name": "stdout",
          "text": [
            "              precision    recall  f1-score   support\n",
            "\n",
            "           0       0.54      0.61      0.57       367\n",
            "           1       0.55      0.56      0.55       308\n",
            "           2       0.52      0.42      0.47       299\n",
            "\n",
            "    accuracy                           0.53       974\n",
            "   macro avg       0.53      0.53      0.53       974\n",
            "weighted avg       0.53      0.53      0.53       974\n",
            "\n"
          ]
        }
      ]
    },
    {
      "cell_type": "code",
      "source": [
        "classifier = SVC(kernel='linear', random_state=0)\n",
        "classifier.fit(scaled_train_embed, y_train)\n",
        "y_pred = classifier.predict(scaled_test_embed)\n",
        "print(classification_report(y_test, y_pred))"
      ],
      "metadata": {
        "colab": {
          "base_uri": "https://localhost:8080/"
        },
        "id": "E_pIv71h6K0v",
        "outputId": "8bc6b19f-58b8-4b1c-fcc1-eaeeda0588b9"
      },
      "execution_count": null,
      "outputs": [
        {
          "output_type": "stream",
          "name": "stdout",
          "text": [
            "              precision    recall  f1-score   support\n",
            "\n",
            "           0       0.47      0.75      0.58       367\n",
            "           1       0.52      0.56      0.54       308\n",
            "           2       0.66      0.12      0.20       299\n",
            "\n",
            "    accuracy                           0.50       974\n",
            "   macro avg       0.55      0.48      0.44       974\n",
            "weighted avg       0.54      0.50      0.45       974\n",
            "\n"
          ]
        }
      ]
    },
    {
      "cell_type": "code",
      "source": [
        "classifier = SVC(kernel='rbf', random_state=0)\n",
        "classifier.fit(scaled_train_embed, y_train)\n",
        "y_pred = classifier.predict(scaled_test_embed)\n",
        "print(classification_report(y_test, y_pred))"
      ],
      "metadata": {
        "colab": {
          "base_uri": "https://localhost:8080/"
        },
        "id": "2Y45bjlT6NkC",
        "outputId": "675e9d9d-b590-44c1-a09e-7b497d7bc0dc"
      },
      "execution_count": null,
      "outputs": [
        {
          "output_type": "stream",
          "name": "stdout",
          "text": [
            "              precision    recall  f1-score   support\n",
            "\n",
            "           0       0.49      0.68      0.57       367\n",
            "           1       0.45      0.64      0.53       308\n",
            "           2       0.81      0.07      0.13       299\n",
            "\n",
            "    accuracy                           0.48       974\n",
            "   macro avg       0.58      0.46      0.41       974\n",
            "weighted avg       0.57      0.48      0.42       974\n",
            "\n"
          ]
        }
      ]
    },
    {
      "cell_type": "code",
      "source": [
        "from sklearn.neighbors import KNeighborsClassifier\n",
        "knn = KNeighborsClassifier()\n",
        "knn.fit(scaled_train_embed, y_train)"
      ],
      "metadata": {
        "colab": {
          "base_uri": "https://localhost:8080/",
          "height": 74
        },
        "id": "NXt3HpW96PFF",
        "outputId": "71e7829a-76b1-4d78-975a-c31ce8455054"
      },
      "execution_count": null,
      "outputs": [
        {
          "output_type": "execute_result",
          "data": {
            "text/plain": [
              "KNeighborsClassifier()"
            ],
            "text/html": [
              "<style>#sk-container-id-3 {color: black;background-color: white;}#sk-container-id-3 pre{padding: 0;}#sk-container-id-3 div.sk-toggleable {background-color: white;}#sk-container-id-3 label.sk-toggleable__label {cursor: pointer;display: block;width: 100%;margin-bottom: 0;padding: 0.3em;box-sizing: border-box;text-align: center;}#sk-container-id-3 label.sk-toggleable__label-arrow:before {content: \"▸\";float: left;margin-right: 0.25em;color: #696969;}#sk-container-id-3 label.sk-toggleable__label-arrow:hover:before {color: black;}#sk-container-id-3 div.sk-estimator:hover label.sk-toggleable__label-arrow:before {color: black;}#sk-container-id-3 div.sk-toggleable__content {max-height: 0;max-width: 0;overflow: hidden;text-align: left;background-color: #f0f8ff;}#sk-container-id-3 div.sk-toggleable__content pre {margin: 0.2em;color: black;border-radius: 0.25em;background-color: #f0f8ff;}#sk-container-id-3 input.sk-toggleable__control:checked~div.sk-toggleable__content {max-height: 200px;max-width: 100%;overflow: auto;}#sk-container-id-3 input.sk-toggleable__control:checked~label.sk-toggleable__label-arrow:before {content: \"▾\";}#sk-container-id-3 div.sk-estimator input.sk-toggleable__control:checked~label.sk-toggleable__label {background-color: #d4ebff;}#sk-container-id-3 div.sk-label input.sk-toggleable__control:checked~label.sk-toggleable__label {background-color: #d4ebff;}#sk-container-id-3 input.sk-hidden--visually {border: 0;clip: rect(1px 1px 1px 1px);clip: rect(1px, 1px, 1px, 1px);height: 1px;margin: -1px;overflow: hidden;padding: 0;position: absolute;width: 1px;}#sk-container-id-3 div.sk-estimator {font-family: monospace;background-color: #f0f8ff;border: 1px dotted black;border-radius: 0.25em;box-sizing: border-box;margin-bottom: 0.5em;}#sk-container-id-3 div.sk-estimator:hover {background-color: #d4ebff;}#sk-container-id-3 div.sk-parallel-item::after {content: \"\";width: 100%;border-bottom: 1px solid gray;flex-grow: 1;}#sk-container-id-3 div.sk-label:hover label.sk-toggleable__label {background-color: #d4ebff;}#sk-container-id-3 div.sk-serial::before {content: \"\";position: absolute;border-left: 1px solid gray;box-sizing: border-box;top: 0;bottom: 0;left: 50%;z-index: 0;}#sk-container-id-3 div.sk-serial {display: flex;flex-direction: column;align-items: center;background-color: white;padding-right: 0.2em;padding-left: 0.2em;position: relative;}#sk-container-id-3 div.sk-item {position: relative;z-index: 1;}#sk-container-id-3 div.sk-parallel {display: flex;align-items: stretch;justify-content: center;background-color: white;position: relative;}#sk-container-id-3 div.sk-item::before, #sk-container-id-3 div.sk-parallel-item::before {content: \"\";position: absolute;border-left: 1px solid gray;box-sizing: border-box;top: 0;bottom: 0;left: 50%;z-index: -1;}#sk-container-id-3 div.sk-parallel-item {display: flex;flex-direction: column;z-index: 1;position: relative;background-color: white;}#sk-container-id-3 div.sk-parallel-item:first-child::after {align-self: flex-end;width: 50%;}#sk-container-id-3 div.sk-parallel-item:last-child::after {align-self: flex-start;width: 50%;}#sk-container-id-3 div.sk-parallel-item:only-child::after {width: 0;}#sk-container-id-3 div.sk-dashed-wrapped {border: 1px dashed gray;margin: 0 0.4em 0.5em 0.4em;box-sizing: border-box;padding-bottom: 0.4em;background-color: white;}#sk-container-id-3 div.sk-label label {font-family: monospace;font-weight: bold;display: inline-block;line-height: 1.2em;}#sk-container-id-3 div.sk-label-container {text-align: center;}#sk-container-id-3 div.sk-container {/* jupyter's `normalize.less` sets `[hidden] { display: none; }` but bootstrap.min.css set `[hidden] { display: none !important; }` so we also need the `!important` here to be able to override the default hidden behavior on the sphinx rendered scikit-learn.org. See: https://github.com/scikit-learn/scikit-learn/issues/21755 */display: inline-block !important;position: relative;}#sk-container-id-3 div.sk-text-repr-fallback {display: none;}</style><div id=\"sk-container-id-3\" class=\"sk-top-container\"><div class=\"sk-text-repr-fallback\"><pre>KNeighborsClassifier()</pre><b>In a Jupyter environment, please rerun this cell to show the HTML representation or trust the notebook. <br />On GitHub, the HTML representation is unable to render, please try loading this page with nbviewer.org.</b></div><div class=\"sk-container\" hidden><div class=\"sk-item\"><div class=\"sk-estimator sk-toggleable\"><input class=\"sk-toggleable__control sk-hidden--visually\" id=\"sk-estimator-id-3\" type=\"checkbox\" checked><label for=\"sk-estimator-id-3\" class=\"sk-toggleable__label sk-toggleable__label-arrow\">KNeighborsClassifier</label><div class=\"sk-toggleable__content\"><pre>KNeighborsClassifier()</pre></div></div></div></div></div>"
            ]
          },
          "metadata": {},
          "execution_count": 40
        }
      ]
    },
    {
      "cell_type": "code",
      "source": [
        "y_pred = knn.predict(scaled_test_embed)\n",
        "print(classification_report(y_test, y_pred))"
      ],
      "metadata": {
        "colab": {
          "base_uri": "https://localhost:8080/"
        },
        "id": "wegP3alO6T0_",
        "outputId": "726a93ce-1fbc-4f93-95cd-c5871934c236"
      },
      "execution_count": null,
      "outputs": [
        {
          "output_type": "stream",
          "name": "stdout",
          "text": [
            "              precision    recall  f1-score   support\n",
            "\n",
            "           0       0.51      0.59      0.54       367\n",
            "           1       0.48      0.56      0.52       308\n",
            "           2       0.51      0.33      0.40       299\n",
            "\n",
            "    accuracy                           0.50       974\n",
            "   macro avg       0.50      0.49      0.49       974\n",
            "weighted avg       0.50      0.50      0.49       974\n",
            "\n"
          ]
        }
      ]
    },
    {
      "cell_type": "markdown",
      "source": [
        "**Observations**:\n",
        "\n",
        "*   Random forest classifier gave 0.56 accuracy.\n",
        "*   Support vector classifier with linear kernel gave accuracy of 0.53 .\n",
        "*   Accuracy with Naive bayes is 0.37 , with SVM poly kernel is 0.50, with SVM rbf kernel is 0.48, with knn is 0.50"
      ],
      "metadata": {
        "id": "P5RKtffEwB_A"
      }
    }
  ],
  "metadata": {
    "kernelspec": {
      "display_name": "Python 3",
      "language": "python",
      "name": "python3"
    },
    "language_info": {
      "codemirror_mode": {
        "name": "ipython",
        "version": 3
      },
      "file_extension": ".py",
      "mimetype": "text/x-python",
      "name": "python",
      "nbconvert_exporter": "python",
      "pygments_lexer": "ipython3",
      "version": "3.7.7"
    },
    "colab": {
      "provenance": []
    }
  },
  "nbformat": 4,
  "nbformat_minor": 0
}